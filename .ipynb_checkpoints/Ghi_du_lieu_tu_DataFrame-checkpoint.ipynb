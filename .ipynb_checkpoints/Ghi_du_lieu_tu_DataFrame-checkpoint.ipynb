{
 "cells": [
  {
   "cell_type": "markdown",
   "id": "ac8f1ab1-e4f8-411b-8e4a-01ee5681e285",
   "metadata": {},
   "source": [
    "# 0. Import các thư viện cần thiết"
   ]
  },
  {
   "cell_type": "code",
   "execution_count": 1,
   "id": "9297590e-3223-4b05-bbe5-4fa82574b3c9",
   "metadata": {},
   "outputs": [],
   "source": [
    "import pandas as pd"
   ]
  },
  {
   "cell_type": "markdown",
   "id": "68f4e5b8-a023-4c56-8234-4a68a1f7cf7b",
   "metadata": {},
   "source": [
    "# 1. Đọc dữ liệu từ file CSV"
   ]
  },
  {
   "cell_type": "code",
   "execution_count": 2,
   "id": "2e94c4d3-be67-4339-99eb-b4b217b93d4f",
   "metadata": {},
   "outputs": [
    {
     "data": {
      "text/html": [
       "<div>\n",
       "<style scoped>\n",
       "    .dataframe tbody tr th:only-of-type {\n",
       "        vertical-align: middle;\n",
       "    }\n",
       "\n",
       "    .dataframe tbody tr th {\n",
       "        vertical-align: top;\n",
       "    }\n",
       "\n",
       "    .dataframe thead th {\n",
       "        text-align: right;\n",
       "    }\n",
       "</style>\n",
       "<table border=\"1\" class=\"dataframe\">\n",
       "  <thead>\n",
       "    <tr style=\"text-align: right;\">\n",
       "      <th></th>\n",
       "      <th>Place</th>\n",
       "      <th>ProductId</th>\n",
       "      <th>ProductName</th>\n",
       "      <th>UmId</th>\n",
       "      <th>UmName</th>\n",
       "      <th>Month</th>\n",
       "      <th>Year</th>\n",
       "      <th>Price</th>\n",
       "    </tr>\n",
       "  </thead>\n",
       "  <tbody>\n",
       "    <tr>\n",
       "      <th>0</th>\n",
       "      <td>National Average</td>\n",
       "      <td>52</td>\n",
       "      <td>Rice - Retail</td>\n",
       "      <td>5</td>\n",
       "      <td>KG</td>\n",
       "      <td>5</td>\n",
       "      <td>2013</td>\n",
       "      <td>4.4920</td>\n",
       "    </tr>\n",
       "    <tr>\n",
       "      <th>1</th>\n",
       "      <td>National Average</td>\n",
       "      <td>52</td>\n",
       "      <td>Rice - Retail</td>\n",
       "      <td>5</td>\n",
       "      <td>KG</td>\n",
       "      <td>6</td>\n",
       "      <td>2013</td>\n",
       "      <td>4.5786</td>\n",
       "    </tr>\n",
       "    <tr>\n",
       "      <th>2</th>\n",
       "      <td>National Average</td>\n",
       "      <td>52</td>\n",
       "      <td>Rice - Retail</td>\n",
       "      <td>5</td>\n",
       "      <td>KG</td>\n",
       "      <td>11</td>\n",
       "      <td>2013</td>\n",
       "      <td>4.7865</td>\n",
       "    </tr>\n",
       "    <tr>\n",
       "      <th>3</th>\n",
       "      <td>National Average</td>\n",
       "      <td>52</td>\n",
       "      <td>Rice - Retail</td>\n",
       "      <td>5</td>\n",
       "      <td>KG</td>\n",
       "      <td>12</td>\n",
       "      <td>2013</td>\n",
       "      <td>5.1337</td>\n",
       "    </tr>\n",
       "    <tr>\n",
       "      <th>4</th>\n",
       "      <td>National Average</td>\n",
       "      <td>52</td>\n",
       "      <td>Rice - Retail</td>\n",
       "      <td>5</td>\n",
       "      <td>KG</td>\n",
       "      <td>1</td>\n",
       "      <td>2014</td>\n",
       "      <td>5.5099</td>\n",
       "    </tr>\n",
       "  </tbody>\n",
       "</table>\n",
       "</div>"
      ],
      "text/plain": [
       "              Place  ProductId    ProductName  UmId UmName  Month  Year  \\\n",
       "0  National Average         52  Rice - Retail     5     KG      5  2013   \n",
       "1  National Average         52  Rice - Retail     5     KG      6  2013   \n",
       "2  National Average         52  Rice - Retail     5     KG     11  2013   \n",
       "3  National Average         52  Rice - Retail     5     KG     12  2013   \n",
       "4  National Average         52  Rice - Retail     5     KG      1  2014   \n",
       "\n",
       "    Price  \n",
       "0  4.4920  \n",
       "1  4.5786  \n",
       "2  4.7865  \n",
       "3  5.1337  \n",
       "4  5.5099  "
      ]
     },
     "execution_count": 2,
     "metadata": {},
     "output_type": "execute_result"
    }
   ],
   "source": [
    "csv_df = pd.read_csv(\"https://s3.ap-southeast-1.amazonaws.com/learn.codegym.vn/media/public/2021/12/31021019/FoodPrice_in_Turkey.csv\")\n",
    "csv_df.head()"
   ]
  },
  {
   "cell_type": "markdown",
   "id": "3641fc35-9b33-4147-8e7a-c23a9dd2d295",
   "metadata": {},
   "source": [
    "# 2. Ghi dữ liệu từ DataFrame vào file CSV"
   ]
  },
  {
   "cell_type": "code",
   "execution_count": 3,
   "id": "79ef2a1c-8998-4264-9f72-e0a7eabd9ccc",
   "metadata": {},
   "outputs": [],
   "source": [
    "csv_df.to_csv(\"demo_FoodPrice.csv\")"
   ]
  },
  {
   "cell_type": "markdown",
   "id": "f3caeed9-1896-48b8-acb7-89c563187f13",
   "metadata": {},
   "source": [
    "# 3. Ghi dữ liệu từ DataFrame vào file Excel"
   ]
  },
  {
   "cell_type": "code",
   "execution_count": 4,
   "id": "e921999c-7060-4b41-a2f4-e9e20e47fbd5",
   "metadata": {
    "tags": []
   },
   "outputs": [],
   "source": [
    "csv_df.to_excel(\"demo_FoodPrice.xlsx\")"
   ]
  },
  {
   "cell_type": "markdown",
   "id": "d15ff0a6-2a6b-4322-8e90-783ed9e5385d",
   "metadata": {},
   "source": [
    "# 4. Ghi dữ liệu vào file Json"
   ]
  },
  {
   "cell_type": "code",
   "execution_count": 5,
   "id": "6d85a3b9-d0ac-4626-8332-57edb80f3ee9",
   "metadata": {},
   "outputs": [],
   "source": [
    "csv_df.to_json(\"demo_FoodPrice.json\", orient = \"columns\")"
   ]
  },
  {
   "cell_type": "markdown",
   "id": "0d6098cd-cba5-4793-b893-5081798c89c2",
   "metadata": {},
   "source": [
    "# 5. Ghi dữ liệu vào file HDF5"
   ]
  },
  {
   "cell_type": "code",
   "execution_count": 6,
   "id": "561fa8fb-603b-4b65-94bb-a6002af018d8",
   "metadata": {},
   "outputs": [],
   "source": [
    "csv_df.to_hdf(\"demo_FoodPrice.h5\", \"table\")"
   ]
  },
  {
   "cell_type": "markdown",
   "id": "8aa448b2-2625-40bb-9dc7-0a8b820f1f1b",
   "metadata": {},
   "source": [
    "# 6. Ghi dữ liệu vào file HTML"
   ]
  },
  {
   "cell_type": "code",
   "execution_count": 7,
   "id": "7b6b72b4-ec03-4da3-852d-a0e2800e2a57",
   "metadata": {},
   "outputs": [],
   "source": [
    "csv_df.to_html(\"demo_FoodPrice.html\")"
   ]
  }
 ],
 "metadata": {
  "kernelspec": {
   "display_name": "Python 3 (ipykernel)",
   "language": "python",
   "name": "python3"
  },
  "language_info": {
   "codemirror_mode": {
    "name": "ipython",
    "version": 3
   },
   "file_extension": ".py",
   "mimetype": "text/x-python",
   "name": "python",
   "nbconvert_exporter": "python",
   "pygments_lexer": "ipython3",
   "version": "3.10.1"
  }
 },
 "nbformat": 4,
 "nbformat_minor": 5
}
